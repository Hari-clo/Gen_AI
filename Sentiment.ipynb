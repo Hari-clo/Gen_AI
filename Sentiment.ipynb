{
  "nbformat": 4,
  "nbformat_minor": 0,
  "metadata": {
    "colab": {
      "provenance": []
    },
    "kernelspec": {
      "name": "python3",
      "display_name": "Python 3"
    },
    "language_info": {
      "name": "python"
    }
  },
  "cells": [
    {
      "cell_type": "code",
      "execution_count": 1,
      "metadata": {
        "id": "5IulDZXdXOTJ"
      },
      "outputs": [],
      "source": [
        "from transformers import AutoTokenizer, AutoModelForSequenceClassification, pipeline\n",
        "import torch\n",
        "import numpy as np"
      ]
    },
    {
      "cell_type": "code",
      "source": [
        "# model and tokenizer\n",
        "model_name = \"cardiffnlp/twitter-roberta-base-sentiment\"\n",
        "tokenizer = AutoTokenizer.from_pretrained(model_name)\n",
        "model = AutoModelForSequenceClassification.from_pretrained(model_name)\n",
        "# creating pipeline\n",
        "sentiment_pipeline = pipeline(\"sentiment-analysis\", model=model, tokenizer=tokenizer)\n",
        "label_map = {\n",
        "    'LABEL_0': 'Negative',\n",
        "    'LABEL_1': 'Neutral',\n",
        "    'LABEL_2': 'Positive'\n",
        "}\n",
        "tweet = \"ok ok product\"\n",
        "result = sentiment_pipeline(tweet)\n",
        "label = label_map[result[0]['label']]\n",
        "score = result[0]['score']\n",
        "print(f\"📊 Sentiment: {label} ({score:.2%} confidence)\")"
      ],
      "metadata": {
        "colab": {
          "base_uri": "https://localhost:8080/"
        },
        "id": "4942X5Z-Xpz6",
        "outputId": "a3b1f662-5d44-476a-f192-85645274f618"
      },
      "execution_count": 7,
      "outputs": [
        {
          "output_type": "stream",
          "name": "stderr",
          "text": [
            "Device set to use cpu\n"
          ]
        },
        {
          "output_type": "stream",
          "name": "stdout",
          "text": [
            "📊 Sentiment: Neutral (52.78% confidence)\n"
          ]
        }
      ]
    }
  ]
}