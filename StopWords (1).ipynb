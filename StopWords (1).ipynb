{
  "nbformat": 4,
  "nbformat_minor": 0,
  "metadata": {
    "colab": {
      "provenance": []
    },
    "kernelspec": {
      "name": "python3",
      "display_name": "Python 3"
    },
    "language_info": {
      "name": "python"
    }
  },
  "cells": [
    {
      "cell_type": "markdown",
      "source": [
        "In this the filler words(stopwords) are removed using nltk"
      ],
      "metadata": {
        "id": "cyq8bV4fcIg7"
      }
    },
    {
      "cell_type": "code",
      "execution_count": null,
      "metadata": {
        "colab": {
          "base_uri": "https://localhost:8080/"
        },
        "id": "ZAW2yhkIrzPu",
        "outputId": "578215c8-9d7c-46e8-9a80-677f1d773096"
      },
      "outputs": [
        {
          "output_type": "stream",
          "name": "stderr",
          "text": [
            "[nltk_data] Downloading package stopwords to /root/nltk_data...\n",
            "[nltk_data]   Unzipping corpora/stopwords.zip.\n"
          ]
        }
      ],
      "source": [
        "import nltk\n",
        "from nltk.corpus import stopwords\n",
        "nltk.download('stopwords')\n",
        "stop_words = set(stopwords.words('english'))"
      ]
    },
    {
      "cell_type": "code",
      "source": [
        "import re\n",
        "text=input(\"enter a text: \")\n",
        "words=re.sub(r'[^\\w\\s]','',text).split()\n",
        "filtered_words=[word for word in words if word not in stop_words]"
      ],
      "metadata": {
        "colab": {
          "base_uri": "https://localhost:8080/"
        },
        "id": "72O-ujuAsGHV",
        "outputId": "935d3ee1-9e46-48e2-cc35-1e39bf445078"
      },
      "execution_count": null,
      "outputs": [
        {
          "name": "stdout",
          "output_type": "stream",
          "text": [
            "enter a text: Hi I am now studying third year in Kamaraj College of Engineering and Technology\n"
          ]
        }
      ]
    },
    {
      "cell_type": "code",
      "source": [
        "print(f\"Filtered Words {filtered_words}\")"
      ],
      "metadata": {
        "colab": {
          "base_uri": "https://localhost:8080/"
        },
        "id": "J20AZupTu6OI",
        "outputId": "0f012a4a-f9ce-40de-e3c0-868ae0a62da6"
      },
      "execution_count": null,
      "outputs": [
        {
          "output_type": "stream",
          "name": "stdout",
          "text": [
            "Filtered Words ['Hi', 'I', 'studying', 'third', 'year', 'Kamaraj', 'College', 'Engineering', 'Technology']\n"
          ]
        }
      ]
    }
  ]
}