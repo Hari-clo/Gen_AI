{
  "nbformat": 4,
  "nbformat_minor": 0,
  "metadata": {
    "colab": {
      "provenance": []
    },
    "kernelspec": {
      "name": "python3",
      "display_name": "Python 3"
    },
    "language_info": {
      "name": "python"
    }
  },
  "cells": [
    {
      "cell_type": "code",
      "execution_count": null,
      "metadata": {
        "id": "q_vtl0PaOXgJ"
      },
      "outputs": [],
      "source": [
        "from tensorflow.keras.preprocessing.text import Tokenizer\n",
        "from tensorflow.keras.preprocessing.sequence import pad_sequences"
      ]
    },
    {
      "cell_type": "code",
      "metadata": {
        "colab": {
          "base_uri": "https://localhost:8080/"
        },
        "id": "41de458c",
        "outputId": "8d9fdfd3-0818-4455-f52e-7e0e39477a1c"
      },
      "source": [
        "tex=[\"I hate maths\",\"RNN is used for text\",\"Tokenization is the first step\"]\n",
        "\n",
        "token=Tokenizer()\n",
        "token.fit_on_texts(tex)\n",
        "sequences=token.texts_to_sequences(tex)\n",
        "padded_sequences=pad_sequences(sequences,padding=\"pre\")\n",
        "print(token.word_index)\n",
        "print(\"Original sequences:\", sequences)\n",
        "print(\"Padded sequences:\", padded_sequences)"
      ],
      "execution_count": null,
      "outputs": [
        {
          "output_type": "stream",
          "name": "stdout",
          "text": [
            "{'is': 1, 'i': 2, 'hate': 3, 'maths': 4, 'rnn': 5, 'used': 6, 'for': 7, 'text': 8, 'tokenization': 9, 'the': 10, 'first': 11, 'step': 12}\n",
            "Original sequences: [[2, 3, 4], [5, 1, 6, 7, 8], [9, 1, 10, 11, 12]]\n",
            "Padded sequences: [[ 0  0  2  3  4]\n",
            " [ 5  1  6  7  8]\n",
            " [ 9  1 10 11 12]]\n"
          ]
        }
      ]
    }
  ]
}