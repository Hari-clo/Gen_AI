{
  "nbformat": 4,
  "nbformat_minor": 0,
  "metadata": {
    "colab": {
      "provenance": []
    },
    "kernelspec": {
      "name": "python3",
      "display_name": "Python 3"
    },
    "language_info": {
      "name": "python"
    }
  },
  "cells": [
    {
      "cell_type": "code",
      "execution_count": null,
      "metadata": {
        "id": "hpiudS80-knd"
      },
      "outputs": [],
      "source": [
        "tex=\"I hate maths\""
      ]
    },
    {
      "cell_type": "code",
      "source": [
        "wt=tex.split()\n",
        "print(\"word tokens\",wt)\n",
        "ct=list(tex)\n",
        "print(\"character token\",ct)"
      ],
      "metadata": {
        "colab": {
          "base_uri": "https://localhost:8080/"
        },
        "id": "lgYlqcDB-l1Z",
        "outputId": "050294fb-d950-4811-e9a6-6a5c45a8dba0"
      },
      "execution_count": null,
      "outputs": [
        {
          "output_type": "stream",
          "name": "stdout",
          "text": [
            "word tokens ['I', 'hate', 'maths']\n",
            "character token ['I', ' ', 'h', 'a', 't', 'e', ' ', 'm', 'a', 't', 'h', 's']\n"
          ]
        }
      ]
    },
    {
      "cell_type": "code",
      "source": [
        "with open(\"op.txt\", \"r\", encoding=\"utf-8\") as f:\n",
        "    tex = f.read()\n",
        "wt = tex.split()\n",
        "print(\"word tokens:\", wt)\n",
        "ct = list(tex)\n",
        "print(\"character tokens:\", ct)\n"
      ],
      "metadata": {
        "colab": {
          "base_uri": "https://localhost:8080/"
        },
        "id": "5kJT8j2N_Pb_",
        "outputId": "a3003ba1-e4e7-4ad6-ee22-d13e780a6ea3"
      },
      "execution_count": null,
      "outputs": [
        {
          "output_type": "stream",
          "name": "stdout",
          "text": [
            "word tokens: ['*One', 'Piece*', 'is', 'a', 'legendary', 'Japanese', 'anime', 'and', 'manga', 'series', 'created', 'by', 'Eiichiro', 'Oda.', 'It', 'follows', 'the', 'journey', 'of', 'Monkey', 'D.', 'Luffy,', 'a', 'cheerful', 'and', 'fearless', 'young', 'pirate', 'with', 'the', 'power', 'to', 'stretch', 'his', 'body', 'like', 'rubber', 'after', 'eating', 'the', 'Gum-Gum', 'Fruit.', 'Luffy', 'sets', 'out', 'to', 'find', 'the', 'ultimate', 'treasure,', 'the', '\"One', 'Piece,\"', 'and', 'become', 'the', 'King', 'of', 'the', 'Pirates.', 'Along', 'the', 'way,', 'he', 'forms', 'a', 'diverse', 'crew', 'called', 'the', 'Straw', 'Hat', 'Pirates,', 'each', 'with', 'unique', 'dreams', 'and', 'skills.', 'The', 'series', 'explores', 'themes', 'of', 'friendship,', 'freedom,', 'loyalty,', 'and', 'never', 'giving', 'up.', 'With', 'epic', 'battles,', 'emotional', 'backstories,', 'and', 'deep', 'world-building,', '*One', 'Piece*', 'has', 'captured', 'the', 'hearts', 'of', 'millions.', 'It', 'features', 'powerful', 'enemies,', 'mystical', 'islands,', 'and', 'ancient', 'secrets.', 'The', 'story', 'also', 'delves', 'into', 'political', 'corruption', 'and', 'societal', 'struggles.', 'As', 'Luffy', 'and', 'his', 'crew', 'sail', 'the', 'Grand', 'Line,', 'their', 'bonds', 'grow', 'stronger.', '*One', 'Piece*', 'continues', 'to', 'inspire', 'with', 'its', 'message', 'of', 'chasing', 'dreams', 'no', 'matter', 'the', 'odds.']\n",
            "character tokens: ['*', 'O', 'n', 'e', ' ', 'P', 'i', 'e', 'c', 'e', '*', ' ', 'i', 's', ' ', 'a', ' ', 'l', 'e', 'g', 'e', 'n', 'd', 'a', 'r', 'y', ' ', 'J', 'a', 'p', 'a', 'n', 'e', 's', 'e', ' ', 'a', 'n', 'i', 'm', 'e', ' ', 'a', 'n', 'd', ' ', 'm', 'a', 'n', 'g', 'a', ' ', 's', 'e', 'r', 'i', 'e', 's', ' ', 'c', 'r', 'e', 'a', 't', 'e', 'd', ' ', 'b', 'y', ' ', 'E', 'i', 'i', 'c', 'h', 'i', 'r', 'o', ' ', 'O', 'd', 'a', '.', ' ', 'I', 't', ' ', 'f', 'o', 'l', 'l', 'o', 'w', 's', ' ', 't', 'h', 'e', ' ', 'j', 'o', 'u', 'r', 'n', 'e', 'y', ' ', 'o', 'f', ' ', 'M', 'o', 'n', 'k', 'e', 'y', ' ', 'D', '.', ' ', 'L', 'u', 'f', 'f', 'y', ',', ' ', 'a', ' ', 'c', 'h', 'e', 'e', 'r', 'f', 'u', 'l', ' ', 'a', 'n', 'd', ' ', 'f', 'e', 'a', 'r', 'l', 'e', 's', 's', ' ', 'y', 'o', 'u', 'n', 'g', ' ', 'p', 'i', 'r', 'a', 't', 'e', ' ', 'w', 'i', 't', 'h', ' ', 't', 'h', 'e', ' ', 'p', 'o', 'w', 'e', 'r', ' ', 't', 'o', ' ', 's', 't', 'r', 'e', 't', 'c', 'h', ' ', 'h', 'i', 's', ' ', 'b', 'o', 'd', 'y', ' ', 'l', 'i', 'k', 'e', ' ', 'r', 'u', 'b', 'b', 'e', 'r', ' ', 'a', 'f', 't', 'e', 'r', ' ', 'e', 'a', 't', 'i', 'n', 'g', ' ', 't', 'h', 'e', ' ', 'G', 'u', 'm', '-', 'G', 'u', 'm', ' ', 'F', 'r', 'u', 'i', 't', '.', ' ', 'L', 'u', 'f', 'f', 'y', ' ', 's', 'e', 't', 's', ' ', 'o', 'u', 't', ' ', 't', 'o', ' ', 'f', 'i', 'n', 'd', ' ', 't', 'h', 'e', ' ', 'u', 'l', 't', 'i', 'm', 'a', 't', 'e', ' ', 't', 'r', 'e', 'a', 's', 'u', 'r', 'e', ',', ' ', 't', 'h', 'e', ' ', '\"', 'O', 'n', 'e', ' ', 'P', 'i', 'e', 'c', 'e', ',', '\"', ' ', 'a', 'n', 'd', ' ', 'b', 'e', 'c', 'o', 'm', 'e', ' ', 't', 'h', 'e', ' ', 'K', 'i', 'n', 'g', ' ', 'o', 'f', ' ', 't', 'h', 'e', ' ', 'P', 'i', 'r', 'a', 't', 'e', 's', '.', ' ', 'A', 'l', 'o', 'n', 'g', ' ', 't', 'h', 'e', ' ', 'w', 'a', 'y', ',', ' ', 'h', 'e', ' ', 'f', 'o', 'r', 'm', 's', ' ', 'a', ' ', 'd', 'i', 'v', 'e', 'r', 's', 'e', ' ', 'c', 'r', 'e', 'w', ' ', 'c', 'a', 'l', 'l', 'e', 'd', ' ', 't', 'h', 'e', ' ', 'S', 't', 'r', 'a', 'w', ' ', 'H', 'a', 't', ' ', 'P', 'i', 'r', 'a', 't', 'e', 's', ',', ' ', 'e', 'a', 'c', 'h', ' ', 'w', 'i', 't', 'h', ' ', 'u', 'n', 'i', 'q', 'u', 'e', ' ', 'd', 'r', 'e', 'a', 'm', 's', ' ', 'a', 'n', 'd', ' ', 's', 'k', 'i', 'l', 'l', 's', '.', ' ', 'T', 'h', 'e', ' ', 's', 'e', 'r', 'i', 'e', 's', ' ', 'e', 'x', 'p', 'l', 'o', 'r', 'e', 's', ' ', 't', 'h', 'e', 'm', 'e', 's', ' ', 'o', 'f', ' ', 'f', 'r', 'i', 'e', 'n', 'd', 's', 'h', 'i', 'p', ',', ' ', 'f', 'r', 'e', 'e', 'd', 'o', 'm', ',', ' ', 'l', 'o', 'y', 'a', 'l', 't', 'y', ',', ' ', 'a', 'n', 'd', ' ', 'n', 'e', 'v', 'e', 'r', ' ', 'g', 'i', 'v', 'i', 'n', 'g', ' ', 'u', 'p', '.', ' ', 'W', 'i', 't', 'h', ' ', 'e', 'p', 'i', 'c', ' ', 'b', 'a', 't', 't', 'l', 'e', 's', ',', ' ', 'e', 'm', 'o', 't', 'i', 'o', 'n', 'a', 'l', ' ', 'b', 'a', 'c', 'k', 's', 't', 'o', 'r', 'i', 'e', 's', ',', ' ', 'a', 'n', 'd', ' ', 'd', 'e', 'e', 'p', ' ', 'w', 'o', 'r', 'l', 'd', '-', 'b', 'u', 'i', 'l', 'd', 'i', 'n', 'g', ',', ' ', '*', 'O', 'n', 'e', ' ', 'P', 'i', 'e', 'c', 'e', '*', ' ', 'h', 'a', 's', ' ', 'c', 'a', 'p', 't', 'u', 'r', 'e', 'd', ' ', 't', 'h', 'e', ' ', 'h', 'e', 'a', 'r', 't', 's', ' ', 'o', 'f', ' ', 'm', 'i', 'l', 'l', 'i', 'o', 'n', 's', '.', ' ', 'I', 't', ' ', 'f', 'e', 'a', 't', 'u', 'r', 'e', 's', ' ', 'p', 'o', 'w', 'e', 'r', 'f', 'u', 'l', ' ', 'e', 'n', 'e', 'm', 'i', 'e', 's', ',', ' ', 'm', 'y', 's', 't', 'i', 'c', 'a', 'l', ' ', 'i', 's', 'l', 'a', 'n', 'd', 's', ',', ' ', 'a', 'n', 'd', ' ', 'a', 'n', 'c', 'i', 'e', 'n', 't', ' ', 's', 'e', 'c', 'r', 'e', 't', 's', '.', ' ', 'T', 'h', 'e', ' ', 's', 't', 'o', 'r', 'y', ' ', 'a', 'l', 's', 'o', ' ', 'd', 'e', 'l', 'v', 'e', 's', ' ', 'i', 'n', 't', 'o', ' ', 'p', 'o', 'l', 'i', 't', 'i', 'c', 'a', 'l', ' ', 'c', 'o', 'r', 'r', 'u', 'p', 't', 'i', 'o', 'n', ' ', 'a', 'n', 'd', ' ', 's', 'o', 'c', 'i', 'e', 't', 'a', 'l', ' ', 's', 't', 'r', 'u', 'g', 'g', 'l', 'e', 's', '.', ' ', 'A', 's', ' ', 'L', 'u', 'f', 'f', 'y', ' ', 'a', 'n', 'd', ' ', 'h', 'i', 's', ' ', 'c', 'r', 'e', 'w', ' ', 's', 'a', 'i', 'l', ' ', 't', 'h', 'e', ' ', 'G', 'r', 'a', 'n', 'd', ' ', 'L', 'i', 'n', 'e', ',', ' ', 't', 'h', 'e', 'i', 'r', ' ', 'b', 'o', 'n', 'd', 's', ' ', 'g', 'r', 'o', 'w', ' ', 's', 't', 'r', 'o', 'n', 'g', 'e', 'r', '.', ' ', '*', 'O', 'n', 'e', ' ', 'P', 'i', 'e', 'c', 'e', '*', ' ', 'c', 'o', 'n', 't', 'i', 'n', 'u', 'e', 's', ' ', 't', 'o', ' ', 'i', 'n', 's', 'p', 'i', 'r', 'e', ' ', 'w', 'i', 't', 'h', ' ', 'i', 't', 's', ' ', 'm', 'e', 's', 's', 'a', 'g', 'e', ' ', 'o', 'f', ' ', 'c', 'h', 'a', 's', 'i', 'n', 'g', ' ', 'd', 'r', 'e', 'a', 'm', 's', ' ', 'n', 'o', ' ', 'm', 'a', 't', 't', 'e', 'r', ' ', 't', 'h', 'e', ' ', 'o', 'd', 'd', 's', '.', '\\n']\n"
          ]
        }
      ]
    }
  ]
}